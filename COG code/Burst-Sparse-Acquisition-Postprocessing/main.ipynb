{
 "cells": [
  {
   "cell_type": "code",
   "execution_count": 1,
   "id": "c32a1d1c-b590-480d-95b0-fa91f82ace3d",
   "metadata": {
    "tags": []
   },
   "outputs": [],
   "source": [
    "import os\n",
    "import numpy as np\n",
    "import sys\n",
    "import tifffile\n",
    "import time\n",
    "from tqdm import tqdm\n",
    "from VLIV.postprocess_vliv import *\n",
    "from LIV. liv_postprocess import *\n",
    "import matplotlib.pyplot as plt"
   ]
  },
  {
   "cell_type": "code",
   "execution_count": 2,
   "id": "709b1195-457a-43c2-9e22-850afda637ad",
   "metadata": {
    "tags": []
   },
   "outputs": [],
   "source": [
    "## Input file path of linear OCT intensity\n",
    "path_OCT = r\"D:\\LungOrgaoind_Control_Top_20220614_001_OCTIntensityPDavg.tiff\"\n",
    "volumeDataType =  \"Ibrahim2021BOE\"\n",
    "\n",
    "liv_proc = False\n",
    "vliv_proc = True\n",
    "\n",
    "## Input parameters of the scanning protocols\n",
    "frameRepeat = 1 # Number of frames in a single burst\n",
    "bscanLocationPerBlock = 16 # No of Bscan locations per Block\n",
    "blockRepeat =  32 # Number of block repeats at each Bscan location\n",
    "blockPerVolume = 8 # Number of blocks in a volume"
   ]
  },
  {
   "cell_type": "code",
   "execution_count": 3,
   "id": "2ce587f3-2776-4d83-8a69-7dacea684098",
   "metadata": {
    "tags": []
   },
   "outputs": [
    {
     "name": "stdout",
     "output_type": "stream",
     "text": [
      "VLIV Processing started\n",
      "Processing: I:\\20221013_data\\liver_003_OCTIntensityPDavg.tiff\n",
      "Data Type = RealBSA\n"
     ]
    },
    {
     "name": "stderr",
     "output_type": "stream",
     "text": [
      " 10%|█         | 13/128 [05:14<46:42, 24.37s/it]C:\\Users\\COG\\Dropbox\\Jupyter\\Burst-Sparse-Acquisition-Postprocessing\\VLIV\\postprocess_vliv.py:94: RuntimeWarning: divide by zero encountered in divide\n",
      "  df [floc] = 1/ damp ## Damping factor\n",
      "100%|██████████| 128/128 [57:36<00:00, 27.00s/it]\n"
     ]
    },
    {
     "name": "stdout",
     "output_type": "stream",
     "text": [
      "VLIV Processing Ended\n",
      "Computation time: 58.29 min\n"
     ]
    }
   ],
   "source": [
    "def main():\n",
    "    \n",
    "    tStart = time.time()\n",
    "    \n",
    "    if liv_proc:\n",
    "        \n",
    "        liv_postprocess (path_OCT,frameRepeat, blockPerVolume, \n",
    "                    bscanLocationPerBlock, blockRepeat, octRangedB= (2, 35), LIVrange=(0, 10))\n",
    "    if vliv_proc:\n",
    "        \n",
    "        vliv_postprocessing (path_OCT, volumeDataType, \n",
    "                            frameRepeat, bscanLocationPerBlock, blockRepeat, blockPerVolume, fitting_method = \"GPU\", \n",
    "                            octRange = (2, 35), mfRange =(0, 10), dfRange =(0, 0.05))\n",
    "        \n",
    "        \n",
    "    tEnd = time.time()\n",
    "    print(f'Computation time:{(tEnd-tStart)/60: .2f} min')\n",
    "    \n",
    "    \n",
    "if __name__ == \"__main__\":\n",
    "    main()"
   ]
  }
 ],
 "metadata": {
  "kernelspec": {
   "display_name": "Python (cupy)",
   "language": "python",
   "name": "cupy"
  },
  "language_info": {
   "codemirror_mode": {
    "name": "ipython",
    "version": 3
   },
   "file_extension": ".py",
   "mimetype": "text/x-python",
   "name": "python",
   "nbconvert_exporter": "python",
   "pygments_lexer": "ipython3",
   "version": "3.10.6"
  }
 },
 "nbformat": 4,
 "nbformat_minor": 5
}
