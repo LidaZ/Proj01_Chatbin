{
 "cells": [
  {
   "cell_type": "code",
   "execution_count": 1,
   "id": "0b5bb9ca-d993-492f-8e83-f39b25bd9536",
   "metadata": {},
   "outputs": [],
   "source": [
    "import unittest\n",
    "import numpy as np\n",
    "import pygpufit.gpufit as gf\n",
    "import matplotlib.pyplot as plt"
   ]
  },
  {
   "cell_type": "code",
   "execution_count": 2,
   "id": "12d946bc-85b1-430c-8f17-60a5cec43932",
   "metadata": {},
   "outputs": [
    {
     "name": "stdout",
     "output_type": "stream",
     "text": [
      "(3, 20)\n",
      "[4. 2.]\n",
      "[[3.9999952 1.9999927]\n",
      " [0.        1.75     ]\n",
      " [0.        1.875    ]]\n"
     ]
    },
    {
     "data": {
      "text/plain": [
       "[<matplotlib.lines.Line2D at 0x17e554d4520>]"
      ]
     },
     "execution_count": 2,
     "metadata": {},
     "output_type": "execute_result"
    },
    {
     "data": {
      "image/png": "[encoded data removed]",
      "text/plain": [
       "<Figure size 640x480 with 1 Axes>"
      ]
     },
     "metadata": {},
     "output_type": "display_data"
    }
   ],
   "source": [
    "def generate_exponential_1d(parameters, x):\n",
    "\n",
    "    a = parameters[0]\n",
    "    b = parameters[1]\n",
    "\n",
    "    y = a * (1- np.exp(-x/b))\n",
    "\n",
    "    return y\n",
    "\n",
    "\n",
    "n_fits = 3\n",
    "n_points = 20\n",
    "n_parameter = 2  \n",
    "\n",
    "# true parameters\n",
    "true_parameters = np.array((4, 2), dtype=np.float32)\n",
    "\n",
    "# generate data\n",
    "data = np.empty((n_fits, n_points), dtype=np.float32)\n",
    "x = np.arange(n_points, dtype=np.float32)*1.5\n",
    "x += np.random.rand(n_points)*1.4\n",
    "data[0, :] = generate_exponential_1d(true_parameters, x)\n",
    "\n",
    "# tolerance\n",
    "tolerance = 0.001\n",
    "\n",
    "# max_n_iterations\n",
    "max_n_iterations = 10\n",
    "\n",
    "# model id\n",
    "model_id = gf.ModelID.SATURATION_1D\n",
    "\n",
    "# initial parameters\n",
    "initial_parameters = np.empty((n_fits, n_parameter), dtype=np.float32)\n",
    "initial_parameters[0, :] = (1, 3)\n",
    "\n",
    "# call to gpufit\n",
    "# parameters, states, chi_squares, number_iterations, execution_time = gf.fit(data, None, model_id,\n",
    "#                                                                             initial_parameters, tolerance, \\\n",
    "#                                                                             max_n_iterations, None, None, None)\n",
    "\n",
    "parameters, states, chi_squares, number_iterations, execution_time = gf.fit(data, None, model_id,\n",
    "                                                                            initial_parameters, tolerance, \\\n",
    "                                                                            max_n_iterations, None, None, x)\n",
    "\n",
    "print(data.shape)\n",
    "print(true_parameters)\n",
    "print(parameters)\n",
    "\n",
    "plt.plot(x, data[0], 'o')"
   ]
  },
  {
   "cell_type": "code",
   "execution_count": null,
   "id": "e0d551fb-8874-496f-aad1-12afab938c87",
   "metadata": {},
   "outputs": [],
   "source": []
  }
 ],
 "metadata": {
  "kernelspec": {
   "display_name": "Python 3 (ipykernel)",
   "language": "python",
   "name": "python3"
  },
  "language_info": {
   "codemirror_mode": {
    "name": "ipython",
    "version": 3
   },
   "file_extension": ".py",
   "mimetype": "text/x-python",
   "name": "python",
   "nbconvert_exporter": "python",
   "pygments_lexer": "ipython3",
   "version": "3.8.12"
  }
 },
 "nbformat": 4,
 "nbformat_minor": 5
}
